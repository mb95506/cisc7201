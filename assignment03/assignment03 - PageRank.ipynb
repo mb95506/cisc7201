{
 "cells": [
  {
   "cell_type": "markdown",
   "metadata": {},
   "source": [
    "# Computing PageRank by Yourself (60%)\n",
    "\n",
    "- In this assignment, we will ask you to implement the simplest PageRank algorithm (power iteration method) by yourself, which is a simple practise of NumPy.\n",
    "\n",
    "- For better understanding of PageRank, you could refer to [PageRank, CUHK](http://home.ie.cuhk.edu.hk/~wkshum/papers/pagerank.pdf) and [PageRank, CMU](http://www.cs.cmu.edu/~elaw/pagerank.pdf)."
   ]
  },
  {
   "cell_type": "markdown",
   "metadata": {},
   "source": [
    "## (1) Loading the dataset\n",
    "\n",
    "We will use a small network (Bitcoin OTC trust weighted signed network) collected from a public dataset portal, [SNAP, Stanford](https://snap.stanford.edu/index.html)."
   ]
  },
  {
   "cell_type": "code",
   "execution_count": null,
   "metadata": {},
   "outputs": [],
   "source": [
    "import numpy as np\n",
    "import pandas\n",
    "\n",
    "data = pandas.read_csv(\"soc-sign-bitcoinotc.csv\", names=['source', 'target', 'rating', 'time'])\n",
    "# keep only records of high rating\n",
    "data = data[data.rating>=8]\n",
    "data=data.drop(['rating','time'],axis=1)\n",
    "print(\"number of remained edges:\", len(data))\n",
    "\n",
    "max_idx = np.amax(data.values)\n",
    "print(\"Maximum vertex ID is\", max_idx)\n",
    "\n",
    "# count the outgoing degree of every vertex\n",
    "outdeg = np.zeros(max_idx+1)\n",
    "for i in data.values:\n",
    "    outdeg[i[0]]=outdeg[i[0]]+1\n",
    "\n",
    "# construct the adjacent matrix\n",
    "matrix = np.zeros((max_idx+1, max_idx+1))\n",
    "for i in data.values:\n",
    "    matrix[i[0],i[1]]=1/outdeg[i[0]]\n",
    "\n",
    "# Think about why we need to transpose the matrix, refer to page 18 and 19 in the CMU slides\n",
    "M = np.transpose(matrix)\n",
    "#print(matrix)"
   ]
  },
  {
   "cell_type": "markdown",
   "metadata": {},
   "source": [
    "## (2) Power iteration method\n",
    "- For each iteration, you need to update the PageRank vector $\\vec{v}$ by $\\vec{v} = \\alpha M \\times \\vec{v}$"
   ]
  },
  {
   "cell_type": "code",
   "execution_count": null,
   "metadata": {},
   "outputs": [],
   "source": [
    "def PowerMethod(v, M):\n",
    "    # The implementation logic is the following\n",
    "    # 1. use the matrix multiplication to calculate the new value of v, $new_v$\n",
    "    # 2. if any change between new_v and v is larger than a threshold, then you go back to step (1); \n",
    "    #    e.g., if np.abs(new_v - v).any()>0.01:\n",
    "    # 3. otherwise, the calculation finished and returns.\n",
    "    \n",
    "    count=0\n",
    "    while True:\n",
    "        if count>max_loop:\n",
    "            break\n",
    "        if count%100==0:\n",
    "            print(\"Calculating iteration #:\", count)\n",
    "        count=count+1\n",
    "\n",
    "        # calculate new_v\n",
    "        # [Your code]\n",
    "        \n",
    "        # check convergence\n",
    "        if np.abs(new_v - v).any()>0.01:\n",
    "            v=new_v\n",
    "            continue\n",
    "        else:\n",
    "            break\n",
    "    \n",
    "    return new_v\n",
    "    "
   ]
  },
  {
   "cell_type": "markdown",
   "metadata": {},
   "source": [
    "# (3) Handling Dangling Node\n",
    "- A node is called a dangling node if it does not contain any out-going link, i.e., if the out-degree is zero.\n",
    "- Read [PageRank, CUHK](http://home.ie.cuhk.edu.hk/~wkshum/papers/pagerank.pdf) for more information.\n",
    "\n",
    "$$ MD_{ij}=\\left\\{\n",
    "\\begin{aligned}\n",
    "1/deg(j) &  & \\text{if there a link from node $j$ to node $i$} \\\\\n",
    "1/N  &  & \\text{if vertex $j$ is a dangling node} \\\\\n",
    "0 & & \\text{otherwise}\n",
    "\\end{aligned}\n",
    "\\right.$$"
   ]
  },
  {
   "cell_type": "code",
   "execution_count": null,
   "metadata": {},
   "outputs": [],
   "source": [
    "# You need to calculate MD baesd on M\n",
    "# [Your code]\n",
    "MD = M"
   ]
  },
  {
   "cell_type": "markdown",
   "metadata": {},
   "source": [
    "# (4) Handling Reducible Web Graph\n",
    "\n",
    "- To resolve reducible web navigation (that is the loop in between some nodes)\n",
    "    - Read [PageRank, CUHK](http://home.ie.cuhk.edu.hk/~wkshum/papers/pagerank.pdf) for more information.\n",
    "- We further update the Matrix MD to MR\n",
    "\n",
    "$$\n",
    "MR = \\alpha MD + \\frac{1-\\alpha}{N}\\begin{bmatrix} \n",
    "1 & ... & 1 \\\\\n",
    "... & ... & ... \\\\\n",
    "1 & ... & 1\n",
    "\\end{bmatrix}\\quad\n",
    "$$\n",
    "\n",
    "where $\\alpha$ is set to 0.85"
   ]
  },
  {
   "cell_type": "code",
   "execution_count": null,
   "metadata": {},
   "outputs": [],
   "source": [
    "# You need to update MR based on MD\n",
    "# [Your code]\n",
    "MR = MD"
   ]
  },
  {
   "cell_type": "markdown",
   "metadata": {},
   "source": [
    "# (5) Main program"
   ]
  },
  {
   "cell_type": "code",
   "execution_count": null,
   "metadata": {},
   "outputs": [],
   "source": [
    "def showtopk(result):\n",
    "    # generate the top-5 result\n",
    "    top5_score = sorted(result, reverse=True)[:5]\n",
    "    top5_investors = [result.index(i) for i in top5_score]\n",
    "    top5 = zip(top5_investors, top5_score)\n",
    "\n",
    "    print(\"Top 5 best-rated players and their scores are:\")\n",
    "    for investor, score in top5: print(\"- investidor %d, com score: %.5f\" % (investor, score))\n",
    "\n",
    "max_loop=100\n",
    "\n",
    "# initialize the vector $v$\n",
    "v=np.random.random((max_idx+1,))\n",
    "\n",
    "# call the function at step (2)\n",
    "print(\"[CALCULATING M's PageRank]\")\n",
    "result = list(PowerMethod(v, M))\n",
    "showtopk(result)\n",
    "\n",
    "# call the function at step (3)\n",
    "print(\"[CALCULATING MD's PageRank]\")\n",
    "result_D = list(PowerMethod(v, MD))\n",
    "showtopk(result_D)\n",
    "\n",
    "# call the function at step (4)\n",
    "print(\"[CALCULATING MR's PageRank]\")\n",
    "result_R = list(PowerMethod(v, MR))\n",
    "showtopk(result_R)"
   ]
  },
  {
   "cell_type": "markdown",
   "metadata": {},
   "source": [
    "# Written Part (40%)\n",
    "1. What's the broadcasting feature in NumPy? Please explain your understanding and give some example how it is useful in applications.\n",
    "\n",
    "2. What will happen if you don't use vectorized calculation in the PowerMethod? \n",
    "\n",
    "3. What's the problem of our current PowerMethod implementation? Please refer to the CUHK slides and answer this question."
   ]
  },
  {
   "cell_type": "markdown",
   "metadata": {},
   "source": [
    "# Bonus (10%)\n",
    "- Revise the PowerMethod and make it support Personalized PageRank"
   ]
  },
  {
   "cell_type": "code",
   "execution_count": null,
   "metadata": {},
   "outputs": [],
   "source": []
  }
 ],
 "metadata": {
  "kernelspec": {
   "display_name": "Python 3",
   "language": "python",
   "name": "python3"
  },
  "language_info": {
   "codemirror_mode": {
    "name": "ipython",
    "version": 3
   },
   "file_extension": ".py",
   "mimetype": "text/x-python",
   "name": "python",
   "nbconvert_exporter": "python",
   "pygments_lexer": "ipython3",
   "version": "3.7.3"
  }
 },
 "nbformat": 4,
 "nbformat_minor": 2
}
