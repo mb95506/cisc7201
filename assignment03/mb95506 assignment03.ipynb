{
 "cells": [
  {
   "cell_type": "markdown",
   "metadata": {},
   "source": [
    "# Computing PageRank by Yourself (60%)\n",
    "\n",
    "- In this assignment, we will ask you to implement the simplest PageRank algorithm (power iteration method) by yourself, which is a simple practise of NumPy.\n",
    "\n",
    "- For better understanding of PageRank, you could refer to [PageRank, CUHK](http://home.ie.cuhk.edu.hk/~wkshum/papers/pagerank.pdf) and [PageRank, CMU](http://www.cs.cmu.edu/~elaw/pagerank.pdf)."
   ]
  },
  {
   "cell_type": "markdown",
   "metadata": {},
   "source": [
    "## (1) Loading the dataset\n",
    "\n",
    "We will use a small network (Bitcoin OTC trust weighted signed network) collected from a public dataset portal, [SNAP, Stanford](https://snap.stanford.edu/index.html)."
   ]
  },
  {
   "cell_type": "code",
   "execution_count": 2,
   "metadata": {},
   "outputs": [
    {
     "name": "stdout",
     "output_type": "stream",
     "text": [
      "number of total edges: 35592\n",
      "remained data shape (1150, 2)\n",
      "number of remained edges: 1150\n",
      "Maximum vertex ID is 5999\n"
     ]
    }
   ],
   "source": [
    "import numpy as np\n",
    "import pandas\n",
    "\n",
    "data = pandas.read_csv(\"soc-sign-bitcoinotc.csv\", names=['source', 'target', 'rating', 'time'])\n",
    "# keep only records of high rating\n",
    "print(\"number of total edges:\", len(data))\n",
    "data = data[data.rating>=8]\n",
    "data=data.drop(['rating','time'],axis=1)\n",
    "print(\"remained data shape\", data.shape)\n",
    "print(\"number of remained edges:\", len(data))\n",
    "\n",
    "max_idx = np.amax(data.values)\n",
    "print(\"Maximum vertex ID is\", max_idx)\n",
    "\n",
    "# count the outgoing degree of every vertex\n",
    "outdeg = np.zeros(max_idx+1)\n",
    "for i in data.values:\n",
    "    outdeg[i[0]]=outdeg[i[0]]+1\n",
    "\n",
    "# construct the adjacent matrix\n",
    "matrix = np.zeros((max_idx+1, max_idx+1))\n",
    "for i in data.values:\n",
    "    matrix[i[0],i[1]]=1/outdeg[i[0]]\n",
    "    \n",
    "# Think about why we need to transpose the matrix, refer to page 18 and 19 in the CMU slides\n",
    "M = np.transpose(matrix)\n",
    "# print(matrix)"
   ]
  },
  {
   "cell_type": "markdown",
   "metadata": {},
   "source": [
    "## (2) Power iteration method\n",
    "- For each iteration, you need to update the PageRank vector $\\vec{v}$ by $\\vec{v} = \\alpha M \\times \\vec{v}$"
   ]
  },
  {
   "cell_type": "code",
   "execution_count": 3,
   "metadata": {},
   "outputs": [],
   "source": [
    "def PowerMethod(v, M):\n",
    "    # The implementation logic is the following\n",
    "    # 1. use the matrix multiplication to calculate the new value of v, $new_v$\n",
    "    # 2. if any change between new_v and v is larger than a threshold, then you go back to step (1); \n",
    "    #    e.g., if np.abs(new_v - v).any()>0.01:\n",
    "    # 3. otherwise, the calculation finished and returns.\n",
    "    \n",
    "    count=0\n",
    "    while True:\n",
    "        if count>max_loop:\n",
    "            break\n",
    "        if count%1000==0:\n",
    "            print(\"Calculating iteration #:\", count)\n",
    "        count=count+1\n",
    "\n",
    "        # calculate new_v\n",
    "        new_v = np.dot(M,v)\n",
    "        \n",
    "        # check convergence\n",
    "        # the original test of any()>0.01 may not get the expected result\n",
    "        if (np.abs(new_v - v)>0.01).any():\n",
    "            v=new_v\n",
    "            continue\n",
    "        else:\n",
    "            break\n",
    "    \n",
    "    return new_v\n",
    "    "
   ]
  },
  {
   "cell_type": "markdown",
   "metadata": {},
   "source": [
    "# (3) Handling Dangling Node\n",
    "- A node is called a dangling node if it does not contain any out-going link, i.e., if the out-degree is zero.\n",
    "- Read [PageRank, CUHK](http://home.ie.cuhk.edu.hk/~wkshum/papers/pagerank.pdf) for more information.\n",
    "\n",
    "$$ MD_{ij}=\\left\\{\n",
    "\\begin{aligned}\n",
    "1/deg(j) &  & \\text{if there a link from node $j$ to node $i$} \\\\\n",
    "1/N  &  & \\text{if vertex $j$ is a dangling node} \\\\\n",
    "0 & & \\text{otherwise}\n",
    "\\end{aligned}\n",
    "\\right.$$"
   ]
  },
  {
   "cell_type": "code",
   "execution_count": 4,
   "metadata": {},
   "outputs": [],
   "source": [
    "# You need to calculate MD baesd on M\n",
    "N = max_idx+1\n",
    "D = np.zeros((N,N))\n",
    "for j in range(N):\n",
    "    if outdeg[j]==0:\n",
    "        D[:,j]=1/N\n",
    "MD = M + D"
   ]
  },
  {
   "cell_type": "markdown",
   "metadata": {},
   "source": [
    "# (4) Handling Reducible Web Graph\n",
    "\n",
    "- To resolve reducible web navigation (that is the loop in between some nodes)\n",
    "    - Read [PageRank, CUHK](http://home.ie.cuhk.edu.hk/~wkshum/papers/pagerank.pdf) for more information.\n",
    "- We further update the Matrix MD to MR\n",
    "\n",
    "$$\n",
    "MR = \\alpha MD + \\frac{1-\\alpha}{N}\\begin{bmatrix} \n",
    "1 & ... & 1 \\\\\n",
    "... & ... & ... \\\\\n",
    "1 & ... & 1\n",
    "\\end{bmatrix}\\quad\n",
    "$$\n",
    "\n",
    "where $\\alpha$ is set to 0.85"
   ]
  },
  {
   "cell_type": "code",
   "execution_count": 5,
   "metadata": {},
   "outputs": [],
   "source": [
    "# You need to update MR based on MD\n",
    "a = 0.85\n",
    "A = np.ones((N,N))\n",
    "MR = a*MD+(((1-a)/N)*A)"
   ]
  },
  {
   "cell_type": "markdown",
   "metadata": {},
   "source": [
    "# (5) Main program"
   ]
  },
  {
   "cell_type": "code",
   "execution_count": 36,
   "metadata": {},
   "outputs": [
    {
     "name": "stdout",
     "output_type": "stream",
     "text": [
      "[CALCULATING M's PageRank]\n",
      "Calculating iteration #: 0\n",
      "Top 5 best-rated players and their scores are:\n",
      "- investidor 202, com score: 3.02077\n",
      "- investidor 144, com score: 1.81948\n",
      "- investidor 361, com score: 1.61003\n",
      "- investidor 5029, com score: 1.23645\n",
      "- investidor 3996, com score: 1.14969\n",
      "Last 5 least-rated players and their scores are:\n",
      "- investidor 0, com score: 0.00000\n",
      "- investidor 3965, com score: 0.00000\n",
      "- investidor 3964, com score: 0.00000\n",
      "- investidor 3963, com score: 0.00000\n",
      "- investidor 3962, com score: 0.00000\n",
      "[CALCULATING MD's PageRank]\n",
      "Calculating iteration #: 0\n",
      "Top 5 best-rated players and their scores are:\n",
      "- investidor 202, com score: 91.69217\n",
      "- investidor 144, com score: 90.31732\n",
      "- investidor 361, com score: 60.71600\n",
      "- investidor 3996, com score: 59.96146\n",
      "- investidor 2567, com score: 37.31499\n",
      "Last 5 least-rated players and their scores are:\n",
      "- investidor 0, com score: 0.08137\n",
      "- investidor 3937, com score: 0.08137\n",
      "- investidor 3936, com score: 0.08137\n",
      "- investidor 3935, com score: 0.08137\n",
      "- investidor 3934, com score: 0.08137\n",
      "[CALCULATING MR's PageRank]\n",
      "Calculating iteration #: 0\n",
      "Top 5 best-rated players and their scores are:\n",
      "- investidor 1, com score: 21.50677\n",
      "- investidor 25, com score: 12.97947\n",
      "- investidor 4172, com score: 10.46049\n",
      "- investidor 2642, com score: 10.28834\n",
      "- investidor 1018, com score: 8.07915\n",
      "Last 5 least-rated players and their scores are:\n",
      "- investidor 0, com score: 0.37394\n",
      "- investidor 3937, com score: 0.37394\n",
      "- investidor 3936, com score: 0.37394\n",
      "- investidor 3935, com score: 0.37394\n",
      "- investidor 3934, com score: 0.37394\n"
     ]
    }
   ],
   "source": [
    "def showtopk(result):\n",
    "    # generate the top-5 result\n",
    "    # enhanced to support investors with same scores\n",
    "    sorted_index = np.argsort(result)\n",
    "    top5_investors = sorted_index[:-6:-1]\n",
    "    least5_investors = sorted_index[:5]\n",
    "    top5_score = [result[i] for i in top5_investors]\n",
    "    least5_score = [result[i] for i in least5_investors]\n",
    "    top5 = zip(top5_investors, top5_score)\n",
    "    least5 = zip(least5_investors, least5_score)\n",
    "\n",
    "    print(\"Top 5 best-rated players and their scores are:\")\n",
    "    for investor, score in top5: print(\"- investidor %d, com score: %.5f\" % (investor, score))\n",
    "    print(\"Last 5 least-rated players and their scores are:\")\n",
    "    for investor, score in least5: print(\"- investidor %d, com score: %.5f\" % (investor, score))\n",
    "\n",
    "max_loop=100\n",
    "\n",
    "# initialize the vector $v$\n",
    "v=np.random.random((max_idx+1,))\n",
    "# using 1/N  as the initial vector would get the convergent result faster and tend to have the same top 5\n",
    "# v = np.ones((N,1))\n",
    "# v = v/N\n",
    "\n",
    "# call the function at step (2)\n",
    "print(\"[CALCULATING M's PageRank]\")\n",
    "result = list(PowerMethod(v, M))\n",
    "showtopk(result)\n",
    "\n",
    "# call the function at step (3)\n",
    "print(\"[CALCULATING MD's PageRank]\")\n",
    "result_D = list(PowerMethod(v, MD))\n",
    "showtopk(result_D)\n",
    "\n",
    "# call the function at step (4)\n",
    "print(\"[CALCULATING MR's PageRank]\")\n",
    "result_R = list(PowerMethod(v, MR))\n",
    "showtopk(result_R)"
   ]
  },
  {
   "cell_type": "markdown",
   "metadata": {},
   "source": [
    "# Written Part (40%)\n",
    "1. What's the broadcasting feature in NumPy? Please explain your understanding and give some example how it is useful in applications.\n",
    "\n",
    "2. What will happen if you don't use vectorized calculation in the PowerMethod? \n",
    "\n",
    "3. What's the problem of our current PowerMethod implementation? Please refer to the CUHK slides and answer this question."
   ]
  },
  {
   "cell_type": "markdown",
   "metadata": {},
   "source": [
    "1. Arrays with different sizes cannot be added, subtracted, or generally be used in arithmetic. A way to overcome this is to duplicate the smaller array so that it is the dimensionality and size as the larger array. This is called array broadcasting and is available in NumPy when performing array arithmetic, which can greatly reduce and simplify your code. For example, we can add scalar 5 to a two-dimensional array by broadcasting the addition of 5 to each value of the two-dimensional array. Below is a working example:"
   ]
  },
  {
   "cell_type": "code",
   "execution_count": 6,
   "metadata": {},
   "outputs": [
    {
     "name": "stdout",
     "output_type": "stream",
     "text": [
      "[[ 6  7  8]\n",
      " [ 9 10 11]]\n",
      "[[ 6  7  8]\n",
      " [ 9 10 11]]\n"
     ]
    }
   ],
   "source": [
    "# a 2x3 array\n",
    "myArray=np.array([[1,2,3],[4,5,6]])\n",
    "# to add 5 to each value of this array, without boardcasting, \n",
    "# we might need to either loop through all values on the array one by one and add 5 to each of them\n",
    "# or create another 2x3 array with all values set to 5\n",
    "fiveArray=np.array([[5,5,5],[5,5,5]])\n",
    "print(myArray+fiveArray)\n",
    "# with boardcasting, we smiply add the scalar 5 to it and will get the same result\n",
    "print(myArray+5)"
   ]
  },
  {
   "cell_type": "markdown",
   "metadata": {},
   "source": [
    "2. Without vectorized calculation in PowerMethod, we would have to loop through each value of vector v with the corresponding row of matrix M. Loop through the corresponding row of M to calculate the sum product of corresponding value of v to get the correspnding new value of new_v. With the vectorized calculation, we can simply write this in one line of code with the direct mapping to the given vector formular.\n",
    "\n",
    "3. Many vertex/investidor/pages may have been ranked as equal scores, i.e. they are not all distinct. This can be seen from the last 5 scores analysis as added in showtopk() function"
   ]
  },
  {
   "cell_type": "markdown",
   "metadata": {},
   "source": [
    "# Bonus (10%)\n",
    "- Revise the PowerMethod and make it support Personalized PageRank"
   ]
  },
  {
   "cell_type": "markdown",
   "metadata": {},
   "source": [
    "We don't have to modify the PowerMethod to support Personalized PageRank. We can model all persons and their preferred pages as nodes to create a bi-directional graph between persons and pages. We further create a link from a particular person loop back to himself/herself. This particular person's Personalized PageRank will then be calculated by the corresponding MR matrix."
   ]
  },
  {
   "cell_type": "code",
   "execution_count": null,
   "metadata": {},
   "outputs": [],
   "source": []
  }
 ],
 "metadata": {
  "kernelspec": {
   "display_name": "Python 3",
   "language": "python",
   "name": "python3"
  },
  "language_info": {
   "codemirror_mode": {
    "name": "ipython",
    "version": 3
   },
   "file_extension": ".py",
   "mimetype": "text/x-python",
   "name": "python",
   "nbconvert_exporter": "python",
   "pygments_lexer": "ipython3",
   "version": "3.7.3"
  }
 },
 "nbformat": 4,
 "nbformat_minor": 2
}
