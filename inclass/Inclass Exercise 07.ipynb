{
 "cells": [
  {
   "cell_type": "code",
   "execution_count": 31,
   "metadata": {},
   "outputs": [
    {
     "name": "stdout",
     "output_type": "stream",
     "text": [
      "[[0.0286 0.6227 0.5767]\n",
      " [0.5514 0.1473 0.2733]]\n",
      "[[0.4148 0.6618 0.2864 0.2012]\n",
      " [0.1556 0.1146 0.6408 0.2964]\n",
      " [0.0704 0.0264 0.1272 0.1976]]\n"
     ]
    },
    {
     "data": {
      "text/plain": [
       "array([[0.30427852, 0.48057344, 0.25486886, 0.55914738],\n",
       "       [0.20860548, 0.28707456, 0.65989314, 0.86849862]])"
      ]
     },
     "execution_count": 31,
     "metadata": {},
     "output_type": "execute_result"
    }
   ],
   "source": [
    "import numpy as np\n",
    "x = np.array([[0,0,0,1],\n",
    "              [0,0,1,0],\n",
    "              [1,1,0,0],\n",
    "              [1,1,0,1]])\n",
    "wh= np.array([[0.5,0.7,0.3,0.3],\n",
    "              [0.3,0.2,0.6,0.4],\n",
    "              [0.2,0.1,0.1,0.3]])\n",
    "wo= np.array([[0.4,0.8,0.7],\n",
    "              [0.6,0.2,0.3]])\n",
    "yt = np.array([[1,1,0,0],\n",
    "               [0,0,1,1]])\n",
    "a = np.array([[0.3,0.3,1.2,1.5],\n",
    "              [0.4,0.6,0.5,0.9],\n",
    "              [0.3,0.1,0.3,0.6]])\n",
    "y = wo.dot(a)\n",
    "yd = yt-y\n",
    "d = yd.transpose().dot(wo)\n",
    "dwh = 0.1 * x.dot(d).transpose()\n",
    "wh = wh + dwh\n",
    "\n",
    "dwo = 0.1 * (a.dot(yd.transpose())).transpose()\n",
    "\n",
    "wo = wo + dwo\n",
    "\n",
    "print(wo)\n",
    "print(wh)\n",
    "wo.dot(wh.dot(x.transpose()))\n"
   ]
  },
  {
   "cell_type": "code",
   "execution_count": null,
   "metadata": {},
   "outputs": [],
   "source": []
  }
 ],
 "metadata": {
  "kernelspec": {
   "display_name": "Python 3",
   "language": "python",
   "name": "python3"
  },
  "language_info": {
   "codemirror_mode": {
    "name": "ipython",
    "version": 3
   },
   "file_extension": ".py",
   "mimetype": "text/x-python",
   "name": "python",
   "nbconvert_exporter": "python",
   "pygments_lexer": "ipython3",
   "version": "3.7.4"
  }
 },
 "nbformat": 4,
 "nbformat_minor": 2
}
